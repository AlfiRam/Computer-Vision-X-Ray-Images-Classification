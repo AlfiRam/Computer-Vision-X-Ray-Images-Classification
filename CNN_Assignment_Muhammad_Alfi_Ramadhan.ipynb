{
  "nbformat": 4,
  "nbformat_minor": 0,
  "metadata": {
    "colab": {
      "provenance": [],
      "include_colab_link": true
    },
    "kernelspec": {
      "name": "python3",
      "display_name": "Python 3"
    },
    "language_info": {
      "name": "python"
    }
  },
  "cells": [
    {
      "cell_type": "markdown",
      "metadata": {
        "id": "view-in-github",
        "colab_type": "text"
      },
      "source": [
        "<a href=\"https://colab.research.google.com/github/AlfiRam/Computer-Vision-X-Ray-Images-Classification/blob/main/CNN_Assignment_Muhammad_Alfi_Ramadhan.ipynb\" target=\"_parent\"><img src=\"https://colab.research.google.com/assets/colab-badge.svg\" alt=\"Open In Colab\"/></a>"
      ]
    },
    {
      "cell_type": "markdown",
      "source": [
        "# Setting the Paths to their Corresponding Folders"
      ],
      "metadata": {
        "id": "tWZIWcMM3TvM"
      }
    },
    {
      "cell_type": "code",
      "source": [
        "import os\n",
        "import random\n",
        "import shutil\n",
        "\n",
        "random.seed(1)\n",
        "\n",
        "positive_folder = '/content/drive/MyDrive/UNI/SEMESTER 4/comvis/COVID-19/Positif'\n",
        "negative_folder = '/content/drive/MyDrive/UNI/SEMESTER 4/comvis/COVID-19/Negatif'\n",
        "\n",
        "train_folder = '/content/drive/MyDrive/UNI/SEMESTER 4/comvis/COVID-19/Training'\n",
        "test_folder = '/content/drive/MyDrive/UNI/SEMESTER 4/comvis/COVID-19/Testing'"
      ],
      "metadata": {
        "id": "xIwf5vv3vIsw"
      },
      "execution_count": null,
      "outputs": []
    },
    {
      "cell_type": "code",
      "source": [
        "positive_images = os.listdir(positive_folder)\n",
        "negative_images = os.listdir(negative_folder)"
      ],
      "metadata": {
        "id": "AaNaKT_jxMb7"
      },
      "execution_count": null,
      "outputs": []
    },
    {
      "cell_type": "markdown",
      "source": [
        "# Splitting the Dataset into Training and Testing Set with 8:2 Ratio"
      ],
      "metadata": {
        "id": "lWDoDr223mmV"
      }
    },
    {
      "cell_type": "code",
      "source": [
        "num_positive_train = int(0.8 * len(positive_images))\n",
        "num_negative_train = int(0.8 * len(negative_images))\n",
        "num_positive_test = len(positive_images) - num_positive_train\n",
        "num_negative_test = len(negative_images) - num_negative_train"
      ],
      "metadata": {
        "id": "RmBe1n5lxROg"
      },
      "execution_count": null,
      "outputs": []
    },
    {
      "cell_type": "markdown",
      "source": [
        "# Creating the Training Set"
      ],
      "metadata": {
        "id": "ZKnKHzGn2WMi"
      }
    },
    {
      "cell_type": "code",
      "source": [
        "for folder in [train_folder + \"/positive\", train_folder + \"/negative\"]:\n",
        "    os.makedirs(folder, exist_ok=True)\n",
        "\n",
        "positive_train_images = random.sample(positive_images, num_positive_train)\n",
        "for image in positive_train_images:\n",
        "    shutil.copy(positive_folder + \"/\" + image, train_folder + \"/positive\")\n",
        "\n",
        "negative_train_images = random.sample(negative_images, num_negative_train)\n",
        "for image in negative_train_images:\n",
        "    shutil.copy(negative_folder + \"/\" + image, train_folder + \"/negative\")"
      ],
      "metadata": {
        "id": "2U_EpYx5xT6m"
      },
      "execution_count": null,
      "outputs": []
    },
    {
      "cell_type": "markdown",
      "source": [
        "# Creating the Testing Set\n"
      ],
      "metadata": {
        "id": "isZveUss2iHE"
      }
    },
    {
      "cell_type": "code",
      "source": [
        "for folder in [test_folder + \"/positive\", test_folder + \"/negative\"]:\n",
        "    os.makedirs(folder, exist_ok=True)\n",
        "\n",
        "positive_test_images = [x for x in positive_images if x not in positive_train_images]\n",
        "positive_test_images = random.sample(positive_test_images, num_positive_test)\n",
        "for image in positive_test_images:\n",
        "    shutil.copy(positive_folder + \"/\" + image, test_folder + \"/positive\")\n",
        "\n",
        "negative_test_images = [x for x in negative_images if x not in negative_train_images]\n",
        "negative_test_images = random.sample(negative_test_images, num_negative_test)\n",
        "for image in negative_test_images:\n",
        "    shutil.copy(negative_folder + \"/\" + image, test_folder + \"/negative\")"
      ],
      "metadata": {
        "id": "GopnapsSxgnd"
      },
      "execution_count": null,
      "outputs": []
    },
    {
      "cell_type": "code",
      "source": [
        "from keras.models import Sequential\n",
        "from keras.layers import Conv2D\n",
        "from keras.layers import MaxPooling2D\n",
        "from keras.layers import Flatten\n",
        "from keras.layers import Dense\n",
        "from keras.preprocessing.image import ImageDataGenerator"
      ],
      "metadata": {
        "id": "hr_VrNTLxs9u"
      },
      "execution_count": null,
      "outputs": []
    },
    {
      "cell_type": "markdown",
      "source": [
        "## Building the CNN"
      ],
      "metadata": {
        "id": "5vGMatTV2Stn"
      }
    },
    {
      "cell_type": "code",
      "source": [
        "classifier = Sequential()\n",
        "classifier.add(Conv2D(32, (3, 3), input_shape = (64, 64, 3), activation = 'relu'))\n",
        "classifier.add(MaxPooling2D(pool_size = (2, 2)))\n",
        "classifier.add(Flatten())\n",
        "classifier.add(Dense(units = 128, activation = 'relu'))\n",
        "classifier.add(Dense(units = 1, activation = 'sigmoid'))\n",
        "classifier.compile(optimizer = 'adam', loss = 'binary_crossentropy', metrics = ['accuracy'])"
      ],
      "metadata": {
        "id": "79ya3ujAx1rf"
      },
      "execution_count": null,
      "outputs": []
    },
    {
      "cell_type": "code",
      "source": [
        "from keras.callbacks import ModelCheckpoint\n",
        "\n",
        "checkpoint_callback = ModelCheckpoint(\n",
        "    filepath = '/content/drive/MyDrive/UNI/SEMESTER 4/comvis/COVID-19/Checkpoints',\n",
        "    monitor = 'val_accuracy',\n",
        "    verbose = 1,\n",
        "    save_best_only = True,\n",
        "    mode = 'max')"
      ],
      "metadata": {
        "id": "vs2PhQwnPato"
      },
      "execution_count": null,
      "outputs": []
    },
    {
      "cell_type": "code",
      "source": [
        "!pip install visualkeras"
      ],
      "metadata": {
        "colab": {
          "base_uri": "https://localhost:8080/"
        },
        "id": "PyLvOA_ml8gL",
        "outputId": "20620ac6-e86b-49a4-f49a-2acefcaefe62"
      },
      "execution_count": null,
      "outputs": [
        {
          "output_type": "stream",
          "name": "stdout",
          "text": [
            "Looking in indexes: https://pypi.org/simple, https://us-python.pkg.dev/colab-wheels/public/simple/\n",
            "Collecting visualkeras\n",
            "  Downloading visualkeras-0.0.2-py3-none-any.whl (12 kB)\n",
            "Requirement already satisfied: pillow>=6.2.0 in /usr/local/lib/python3.10/dist-packages (from visualkeras) (8.4.0)\n",
            "Requirement already satisfied: numpy>=1.18.1 in /usr/local/lib/python3.10/dist-packages (from visualkeras) (1.22.4)\n",
            "Collecting aggdraw>=1.3.11\n",
            "  Downloading aggdraw-1.3.16-cp310-cp310-manylinux_2_17_x86_64.manylinux2014_x86_64.whl (993 kB)\n",
            "\u001b[2K     \u001b[90m━━━━━━━━━━━━━━━━━━━━━━━━━━━━━━━━━━━━━━━\u001b[0m \u001b[32m993.0/993.0 kB\u001b[0m \u001b[31m7.9 MB/s\u001b[0m eta \u001b[36m0:00:00\u001b[0m\n",
            "\u001b[?25hInstalling collected packages: aggdraw, visualkeras\n",
            "Successfully installed aggdraw-1.3.16 visualkeras-0.0.2\n"
          ]
        }
      ]
    },
    {
      "cell_type": "code",
      "source": [
        "import visualkeras\n",
        "from PIL import ImageFont\n",
        "visualkeras.layered_view(classifier, legend=True)"
      ],
      "metadata": {
        "colab": {
          "base_uri": "https://localhost:8080/",
          "height": 384
        },
        "id": "TQg_5lMumPTj",
        "outputId": "34d00165-901d-423d-8f2b-69b875927a56"
      },
      "execution_count": null,
      "outputs": [
        {
          "output_type": "execute_result",
          "data": {
            "text/plain": [
              "<PIL.Image.Image image mode=RGBA size=585x367 at 0x7F90A4A7E560>"
            ],
            "image/png": "[encoded data removed]"
          },
          "metadata": {},
          "execution_count": 11
        }
      ]
    },
    {
      "cell_type": "markdown",
      "source": [
        "## Fitting the CNN Into Images"
      ],
      "metadata": {
        "id": "gtzFgaxG4EzC"
      }
    },
    {
      "cell_type": "code",
      "source": [
        "train_datagen = ImageDataGenerator(rescale=1./255,shear_range = 0.2,zoom_range = 0.2, horizontal_flip = True)\n",
        "test_datagen = ImageDataGenerator(rescale=1./255)\n",
        "training_set = train_datagen.flow_from_directory('/content/drive/MyDrive/UNI/SEMESTER 4/comvis/COVID-19/Training', target_size = (64,64), batch_size=31, class_mode='binary')\n",
        "test_set = test_datagen.flow_from_directory('/content/drive/MyDrive/UNI/SEMESTER 4/comvis/COVID-19/Testing', target_size=(64,64), batch_size=16, class_mode = 'binary')"
      ],
      "metadata": {
        "colab": {
          "base_uri": "https://localhost:8080/"
        },
        "id": "p6tV5txux7mD",
        "outputId": "23afc036-0ca2-4335-b9cb-5e993364ba29"
      },
      "execution_count": null,
      "outputs": [
        {
          "output_type": "stream",
          "name": "stdout",
          "text": [
            "Found 124 images belonging to 2 classes.\n",
            "Found 32 images belonging to 2 classes.\n"
          ]
        }
      ]
    },
    {
      "cell_type": "markdown",
      "source": [
        "## Training the Model"
      ],
      "metadata": {
        "id": "h1GCuACj2NZw"
      }
    },
    {
      "cell_type": "code",
      "source": [
        "classifier.fit(training_set, steps_per_epoch = 4, epochs = 100, validation_data = test_set, validation_steps = 2, callbacks = [checkpoint_callback])"
      ],
      "metadata": {
        "colab": {
          "base_uri": "https://localhost:8080/"
        },
        "id": "d-RBTTXzyGdi",
        "outputId": "413b09bb-0919-4183-af4e-a25b709e18cc"
      },
      "execution_count": null,
      "outputs": [
        {
          "output_type": "stream",
          "name": "stdout",
          "text": [
            "Epoch 1/100\n",
            "4/4 [==============================] - ETA: 0s - loss: 3.4237 - accuracy: 0.5887\n",
            "Epoch 1: val_accuracy improved from -inf to 0.37500, saving model to /content/drive/MyDrive/UNI/SEMESTER 4/comvis/COVID-19/Checkpoints\n"
          ]
        },
        {
          "output_type": "stream",
          "name": "stderr",
          "text": [
            "WARNING:absl:Found untraced functions such as _jit_compiled_convolution_op, _update_step_xla while saving (showing 2 of 2). These functions will not be directly callable after loading.\n"
          ]
        },
        {
          "output_type": "stream",
          "name": "stdout",
          "text": [
            "\b\b\b\b\b\b\b\b\b\b\b\b\b\b\b\b\b\b\b\b\b\b\b\b\b\b\b\b\b\b\b\b\b\b\b\b\b\b\b\b\b\b\b\b\b\b\b\b\b\b\b\b\b\b\b\b\b\b\b\b\b\b\b\b\b\b\b\b\b\b\b\b\b\b\b\b\b\b\b\b\r4/4 [==============================] - 16s 4s/step - loss: 3.4237 - accuracy: 0.5887 - val_loss: 2.4323 - val_accuracy: 0.3750\n",
            "Epoch 2/100\n",
            "4/4 [==============================] - ETA: 0s - loss: 1.6039 - accuracy: 0.3710\n",
            "Epoch 2: val_accuracy did not improve from 0.37500\n",
            "4/4 [==============================] - 15s 4s/step - loss: 1.6039 - accuracy: 0.3710 - val_loss: 0.7221 - val_accuracy: 0.3750\n",
            "Epoch 3/100\n",
            "4/4 [==============================] - ETA: 0s - loss: 0.7239 - accuracy: 0.5242\n",
            "Epoch 3: val_accuracy improved from 0.37500 to 0.62500, saving model to /content/drive/MyDrive/UNI/SEMESTER 4/comvis/COVID-19/Checkpoints\n"
          ]
        },
        {
          "output_type": "stream",
          "name": "stderr",
          "text": [
            "WARNING:absl:Found untraced functions such as _jit_compiled_convolution_op, _update_step_xla while saving (showing 2 of 2). These functions will not be directly callable after loading.\n"
          ]
        },
        {
          "output_type": "stream",
          "name": "stdout",
          "text": [
            "\b\b\b\b\b\b\b\b\b\b\b\b\b\b\b\b\b\b\b\b\b\b\b\b\b\b\b\b\b\b\b\b\b\b\b\b\b\b\b\b\b\b\b\b\b\b\b\b\b\b\b\b\b\b\b\b\b\b\b\b\b\b\b\b\b\b\b\b\b\b\b\b\b\b\b\b\b\b\b\b\r4/4 [==============================] - 11s 3s/step - loss: 0.7239 - accuracy: 0.5242 - val_loss: 0.6786 - val_accuracy: 0.6250\n",
            "Epoch 4/100\n",
            "4/4 [==============================] - ETA: 0s - loss: 0.7253 - accuracy: 0.6290\n",
            "Epoch 4: val_accuracy did not improve from 0.62500\n",
            "4/4 [==============================] - 11s 3s/step - loss: 0.7253 - accuracy: 0.6290 - val_loss: 0.6704 - val_accuracy: 0.6250\n",
            "Epoch 5/100\n",
            "4/4 [==============================] - ETA: 0s - loss: 0.6920 - accuracy: 0.6290\n",
            "Epoch 5: val_accuracy did not improve from 0.62500\n",
            "4/4 [==============================] - 12s 4s/step - loss: 0.6920 - accuracy: 0.6290 - val_loss: 0.6436 - val_accuracy: 0.6250\n",
            "Epoch 6/100\n",
            "4/4 [==============================] - ETA: 0s - loss: 0.6753 - accuracy: 0.6290\n",
            "Epoch 6: val_accuracy did not improve from 0.62500\n",
            "4/4 [==============================] - 11s 3s/step - loss: 0.6753 - accuracy: 0.6290 - val_loss: 0.6561 - val_accuracy: 0.6250\n",
            "Epoch 7/100\n",
            "4/4 [==============================] - ETA: 0s - loss: 0.6694 - accuracy: 0.6290\n",
            "Epoch 7: val_accuracy did not improve from 0.62500\n",
            "4/4 [==============================] - 11s 3s/step - loss: 0.6694 - accuracy: 0.6290 - val_loss: 0.6566 - val_accuracy: 0.6250\n",
            "Epoch 8/100\n",
            "4/4 [==============================] - ETA: 0s - loss: 0.6653 - accuracy: 0.6290\n",
            "Epoch 8: val_accuracy did not improve from 0.62500\n",
            "4/4 [==============================] - 12s 3s/step - loss: 0.6653 - accuracy: 0.6290 - val_loss: 0.6527 - val_accuracy: 0.6250\n",
            "Epoch 9/100\n",
            "4/4 [==============================] - ETA: 0s - loss: 0.6736 - accuracy: 0.6290\n",
            "Epoch 9: val_accuracy did not improve from 0.62500\n",
            "4/4 [==============================] - 12s 3s/step - loss: 0.6736 - accuracy: 0.6290 - val_loss: 0.6421 - val_accuracy: 0.6250\n",
            "Epoch 10/100\n",
            "4/4 [==============================] - ETA: 0s - loss: 0.6665 - accuracy: 0.6290\n",
            "Epoch 10: val_accuracy did not improve from 0.62500\n",
            "4/4 [==============================] - 11s 3s/step - loss: 0.6665 - accuracy: 0.6290 - val_loss: 0.6408 - val_accuracy: 0.6250\n",
            "Epoch 11/100\n",
            "4/4 [==============================] - ETA: 0s - loss: 0.6643 - accuracy: 0.6290\n",
            "Epoch 11: val_accuracy did not improve from 0.62500\n",
            "4/4 [==============================] - 13s 4s/step - loss: 0.6643 - accuracy: 0.6290 - val_loss: 0.6413 - val_accuracy: 0.6250\n",
            "Epoch 12/100\n",
            "4/4 [==============================] - ETA: 0s - loss: 0.6620 - accuracy: 0.6290\n",
            "Epoch 12: val_accuracy did not improve from 0.62500\n",
            "4/4 [==============================] - 10s 3s/step - loss: 0.6620 - accuracy: 0.6290 - val_loss: 0.6426 - val_accuracy: 0.6250\n",
            "Epoch 13/100\n",
            "4/4 [==============================] - ETA: 0s - loss: 0.6598 - accuracy: 0.6290\n",
            "Epoch 13: val_accuracy did not improve from 0.62500\n",
            "4/4 [==============================] - 11s 3s/step - loss: 0.6598 - accuracy: 0.6290 - val_loss: 0.6433 - val_accuracy: 0.6250\n",
            "Epoch 14/100\n",
            "4/4 [==============================] - ETA: 0s - loss: 0.6600 - accuracy: 0.6290\n",
            "Epoch 14: val_accuracy did not improve from 0.62500\n",
            "4/4 [==============================] - 12s 3s/step - loss: 0.6600 - accuracy: 0.6290 - val_loss: 0.6423 - val_accuracy: 0.6250\n",
            "Epoch 15/100\n",
            "4/4 [==============================] - ETA: 0s - loss: 0.6590 - accuracy: 0.6290\n",
            "Epoch 15: val_accuracy did not improve from 0.62500\n",
            "4/4 [==============================] - 11s 3s/step - loss: 0.6590 - accuracy: 0.6290 - val_loss: 0.6408 - val_accuracy: 0.6250\n",
            "Epoch 16/100\n",
            "4/4 [==============================] - ETA: 0s - loss: 0.6587 - accuracy: 0.6290\n",
            "Epoch 16: val_accuracy did not improve from 0.62500\n",
            "4/4 [==============================] - 12s 4s/step - loss: 0.6587 - accuracy: 0.6290 - val_loss: 0.6392 - val_accuracy: 0.6250\n",
            "Epoch 17/100\n",
            "4/4 [==============================] - ETA: 0s - loss: 0.6615 - accuracy: 0.6290\n",
            "Epoch 17: val_accuracy did not improve from 0.62500\n",
            "4/4 [==============================] - 11s 3s/step - loss: 0.6615 - accuracy: 0.6290 - val_loss: 0.6364 - val_accuracy: 0.6250\n",
            "Epoch 18/100\n",
            "4/4 [==============================] - ETA: 0s - loss: 0.6592 - accuracy: 0.6290\n",
            "Epoch 18: val_accuracy did not improve from 0.62500\n",
            "4/4 [==============================] - 12s 4s/step - loss: 0.6592 - accuracy: 0.6290 - val_loss: 0.6369 - val_accuracy: 0.6250\n",
            "Epoch 19/100\n",
            "4/4 [==============================] - ETA: 0s - loss: 0.6566 - accuracy: 0.6290\n",
            "Epoch 19: val_accuracy did not improve from 0.62500\n",
            "4/4 [==============================] - 14s 4s/step - loss: 0.6566 - accuracy: 0.6290 - val_loss: 0.6339 - val_accuracy: 0.6250\n",
            "Epoch 20/100\n",
            "4/4 [==============================] - ETA: 0s - loss: 0.6549 - accuracy: 0.6290\n",
            "Epoch 20: val_accuracy did not improve from 0.62500\n",
            "4/4 [==============================] - 11s 3s/step - loss: 0.6549 - accuracy: 0.6290 - val_loss: 0.6310 - val_accuracy: 0.6250\n",
            "Epoch 21/100\n",
            "4/4 [==============================] - ETA: 0s - loss: 0.6556 - accuracy: 0.6290\n",
            "Epoch 21: val_accuracy did not improve from 0.62500\n",
            "4/4 [==============================] - 12s 4s/step - loss: 0.6556 - accuracy: 0.6290 - val_loss: 0.6314 - val_accuracy: 0.6250\n",
            "Epoch 22/100\n",
            "4/4 [==============================] - ETA: 0s - loss: 0.6504 - accuracy: 0.6290\n",
            "Epoch 22: val_accuracy did not improve from 0.62500\n",
            "4/4 [==============================] - 14s 4s/step - loss: 0.6504 - accuracy: 0.6290 - val_loss: 0.6318 - val_accuracy: 0.6250\n",
            "Epoch 23/100\n",
            "4/4 [==============================] - ETA: 0s - loss: 0.6467 - accuracy: 0.6290\n",
            "Epoch 23: val_accuracy did not improve from 0.62500\n",
            "4/4 [==============================] - 12s 3s/step - loss: 0.6467 - accuracy: 0.6290 - val_loss: 0.6275 - val_accuracy: 0.6250\n",
            "Epoch 24/100\n",
            "4/4 [==============================] - ETA: 0s - loss: 0.6484 - accuracy: 0.6371\n",
            "Epoch 24: val_accuracy did not improve from 0.62500\n",
            "4/4 [==============================] - 11s 3s/step - loss: 0.6484 - accuracy: 0.6371 - val_loss: 0.6254 - val_accuracy: 0.6250\n",
            "Epoch 25/100\n",
            "4/4 [==============================] - ETA: 0s - loss: 0.6439 - accuracy: 0.6452\n",
            "Epoch 25: val_accuracy did not improve from 0.62500\n",
            "4/4 [==============================] - 12s 3s/step - loss: 0.6439 - accuracy: 0.6452 - val_loss: 0.6280 - val_accuracy: 0.6250\n",
            "Epoch 26/100\n",
            "4/4 [==============================] - ETA: 0s - loss: 0.6409 - accuracy: 0.6774\n",
            "Epoch 26: val_accuracy did not improve from 0.62500\n",
            "4/4 [==============================] - 9s 3s/step - loss: 0.6409 - accuracy: 0.6774 - val_loss: 0.6280 - val_accuracy: 0.6250\n",
            "Epoch 27/100\n",
            "4/4 [==============================] - ETA: 0s - loss: 0.6396 - accuracy: 0.6532\n",
            "Epoch 27: val_accuracy did not improve from 0.62500\n",
            "4/4 [==============================] - 11s 3s/step - loss: 0.6396 - accuracy: 0.6532 - val_loss: 0.6211 - val_accuracy: 0.6250\n",
            "Epoch 28/100\n",
            "4/4 [==============================] - ETA: 0s - loss: 0.6352 - accuracy: 0.6371\n",
            "Epoch 28: val_accuracy did not improve from 0.62500\n",
            "4/4 [==============================] - 11s 3s/step - loss: 0.6352 - accuracy: 0.6371 - val_loss: 0.6207 - val_accuracy: 0.6250\n",
            "Epoch 29/100\n",
            "4/4 [==============================] - ETA: 0s - loss: 0.6341 - accuracy: 0.6613\n",
            "Epoch 29: val_accuracy improved from 0.62500 to 0.71875, saving model to /content/drive/MyDrive/UNI/SEMESTER 4/comvis/COVID-19/Checkpoints\n"
          ]
        },
        {
          "output_type": "stream",
          "name": "stderr",
          "text": [
            "WARNING:absl:Found untraced functions such as _jit_compiled_convolution_op, _update_step_xla while saving (showing 2 of 2). These functions will not be directly callable after loading.\n"
          ]
        },
        {
          "output_type": "stream",
          "name": "stdout",
          "text": [
            "\b\b\b\b\b\b\b\b\b\b\b\b\b\b\b\b\b\b\b\b\b\b\b\b\b\b\b\b\b\b\b\b\b\b\b\b\b\b\b\b\b\b\b\b\b\b\b\b\b\b\b\b\b\b\b\b\b\b\b\b\b\b\b\b\b\b\b\b\b\b\b\b\b\b\b\b\b\b\b\b\r4/4 [==============================] - 13s 4s/step - loss: 0.6341 - accuracy: 0.6613 - val_loss: 0.6235 - val_accuracy: 0.7188\n",
            "Epoch 30/100\n",
            "4/4 [==============================] - ETA: 0s - loss: 0.6257 - accuracy: 0.6855\n",
            "Epoch 30: val_accuracy did not improve from 0.71875\n",
            "4/4 [==============================] - 9s 2s/step - loss: 0.6257 - accuracy: 0.6855 - val_loss: 0.6202 - val_accuracy: 0.6250\n",
            "Epoch 31/100\n",
            "4/4 [==============================] - ETA: 0s - loss: 0.6253 - accuracy: 0.6694\n",
            "Epoch 31: val_accuracy did not improve from 0.71875\n",
            "4/4 [==============================] - 11s 3s/step - loss: 0.6253 - accuracy: 0.6694 - val_loss: 0.6179 - val_accuracy: 0.6250\n",
            "Epoch 32/100\n",
            "4/4 [==============================] - ETA: 0s - loss: 0.6197 - accuracy: 0.6935\n",
            "Epoch 32: val_accuracy improved from 0.71875 to 0.75000, saving model to /content/drive/MyDrive/UNI/SEMESTER 4/comvis/COVID-19/Checkpoints\n"
          ]
        },
        {
          "output_type": "stream",
          "name": "stderr",
          "text": [
            "WARNING:absl:Found untraced functions such as _jit_compiled_convolution_op, _update_step_xla while saving (showing 2 of 2). These functions will not be directly callable after loading.\n"
          ]
        },
        {
          "output_type": "stream",
          "name": "stdout",
          "text": [
            "\b\b\b\b\b\b\b\b\b\b\b\b\b\b\b\b\b\b\b\b\b\b\b\b\b\b\b\b\b\b\b\b\b\b\b\b\b\b\b\b\b\b\b\b\b\b\b\b\b\b\b\b\b\b\b\b\b\b\b\b\b\b\b\b\b\b\b\b\b\b\b\b\b\b\b\b\b\b\b\b\r4/4 [==============================] - 13s 4s/step - loss: 0.6197 - accuracy: 0.6935 - val_loss: 0.6252 - val_accuracy: 0.7500\n",
            "Epoch 33/100\n",
            "4/4 [==============================] - ETA: 0s - loss: 0.6180 - accuracy: 0.7016\n",
            "Epoch 33: val_accuracy did not improve from 0.75000\n",
            "4/4 [==============================] - 11s 3s/step - loss: 0.6180 - accuracy: 0.7016 - val_loss: 0.6156 - val_accuracy: 0.7188\n",
            "Epoch 34/100\n",
            "4/4 [==============================] - ETA: 0s - loss: 0.6026 - accuracy: 0.7258\n",
            "Epoch 34: val_accuracy did not improve from 0.75000\n",
            "4/4 [==============================] - 13s 4s/step - loss: 0.6026 - accuracy: 0.7258 - val_loss: 0.6120 - val_accuracy: 0.7188\n",
            "Epoch 35/100\n",
            "4/4 [==============================] - ETA: 0s - loss: 0.6130 - accuracy: 0.6935\n",
            "Epoch 35: val_accuracy did not improve from 0.75000\n",
            "4/4 [==============================] - 12s 3s/step - loss: 0.6130 - accuracy: 0.6935 - val_loss: 0.6137 - val_accuracy: 0.7500\n",
            "Epoch 36/100\n",
            "4/4 [==============================] - ETA: 0s - loss: 0.6137 - accuracy: 0.7097\n",
            "Epoch 36: val_accuracy did not improve from 0.75000\n",
            "4/4 [==============================] - 11s 3s/step - loss: 0.6137 - accuracy: 0.7097 - val_loss: 0.6292 - val_accuracy: 0.6875\n",
            "Epoch 37/100\n",
            "4/4 [==============================] - ETA: 0s - loss: 0.6125 - accuracy: 0.6694\n",
            "Epoch 37: val_accuracy did not improve from 0.75000\n",
            "4/4 [==============================] - 11s 3s/step - loss: 0.6125 - accuracy: 0.6694 - val_loss: 0.6113 - val_accuracy: 0.7188\n",
            "Epoch 38/100\n",
            "4/4 [==============================] - ETA: 0s - loss: 0.5889 - accuracy: 0.7097\n",
            "Epoch 38: val_accuracy did not improve from 0.75000\n",
            "4/4 [==============================] - 9s 3s/step - loss: 0.5889 - accuracy: 0.7097 - val_loss: 0.6122 - val_accuracy: 0.7188\n",
            "Epoch 39/100\n",
            "4/4 [==============================] - ETA: 0s - loss: 0.5898 - accuracy: 0.7258\n",
            "Epoch 39: val_accuracy did not improve from 0.75000\n",
            "4/4 [==============================] - 11s 3s/step - loss: 0.5898 - accuracy: 0.7258 - val_loss: 0.6185 - val_accuracy: 0.7188\n",
            "Epoch 40/100\n",
            "4/4 [==============================] - ETA: 0s - loss: 0.6004 - accuracy: 0.6855\n",
            "Epoch 40: val_accuracy did not improve from 0.75000\n",
            "4/4 [==============================] - 12s 3s/step - loss: 0.6004 - accuracy: 0.6855 - val_loss: 0.6195 - val_accuracy: 0.7500\n",
            "Epoch 41/100\n",
            "4/4 [==============================] - ETA: 0s - loss: 0.5812 - accuracy: 0.7016\n",
            "Epoch 41: val_accuracy did not improve from 0.75000\n",
            "4/4 [==============================] - 11s 3s/step - loss: 0.5812 - accuracy: 0.7016 - val_loss: 0.6307 - val_accuracy: 0.6875\n",
            "Epoch 42/100\n",
            "4/4 [==============================] - ETA: 0s - loss: 0.5753 - accuracy: 0.7016\n",
            "Epoch 42: val_accuracy did not improve from 0.75000\n",
            "4/4 [==============================] - 12s 3s/step - loss: 0.5753 - accuracy: 0.7016 - val_loss: 0.6259 - val_accuracy: 0.7500\n",
            "Epoch 43/100\n",
            "4/4 [==============================] - ETA: 0s - loss: 0.5742 - accuracy: 0.7339\n",
            "Epoch 43: val_accuracy did not improve from 0.75000\n",
            "4/4 [==============================] - 9s 3s/step - loss: 0.5742 - accuracy: 0.7339 - val_loss: 0.6316 - val_accuracy: 0.6875\n",
            "Epoch 44/100\n",
            "4/4 [==============================] - ETA: 0s - loss: 0.5721 - accuracy: 0.7016\n",
            "Epoch 44: val_accuracy did not improve from 0.75000\n",
            "4/4 [==============================] - 11s 2s/step - loss: 0.5721 - accuracy: 0.7016 - val_loss: 0.6379 - val_accuracy: 0.6875\n",
            "Epoch 45/100\n",
            "4/4 [==============================] - ETA: 0s - loss: 0.5752 - accuracy: 0.6935\n",
            "Epoch 45: val_accuracy did not improve from 0.75000\n",
            "4/4 [==============================] - 13s 4s/step - loss: 0.5752 - accuracy: 0.6935 - val_loss: 0.6357 - val_accuracy: 0.6875\n",
            "Epoch 46/100\n",
            "4/4 [==============================] - ETA: 0s - loss: 0.5874 - accuracy: 0.7258\n",
            "Epoch 46: val_accuracy did not improve from 0.75000\n",
            "4/4 [==============================] - 11s 3s/step - loss: 0.5874 - accuracy: 0.7258 - val_loss: 0.6576 - val_accuracy: 0.5938\n",
            "Epoch 47/100\n",
            "4/4 [==============================] - ETA: 0s - loss: 0.6011 - accuracy: 0.6774\n",
            "Epoch 47: val_accuracy did not improve from 0.75000\n",
            "4/4 [==============================] - 11s 3s/step - loss: 0.6011 - accuracy: 0.6774 - val_loss: 0.6398 - val_accuracy: 0.6875\n",
            "Epoch 48/100\n",
            "4/4 [==============================] - ETA: 0s - loss: 0.5794 - accuracy: 0.7258\n",
            "Epoch 48: val_accuracy did not improve from 0.75000\n",
            "4/4 [==============================] - 11s 3s/step - loss: 0.5794 - accuracy: 0.7258 - val_loss: 0.6353 - val_accuracy: 0.6875\n",
            "Epoch 49/100\n",
            "4/4 [==============================] - ETA: 0s - loss: 0.5585 - accuracy: 0.7339\n",
            "Epoch 49: val_accuracy did not improve from 0.75000\n",
            "4/4 [==============================] - 12s 3s/step - loss: 0.5585 - accuracy: 0.7339 - val_loss: 0.6325 - val_accuracy: 0.6875\n",
            "Epoch 50/100\n",
            "4/4 [==============================] - ETA: 0s - loss: 0.5796 - accuracy: 0.7016\n",
            "Epoch 50: val_accuracy did not improve from 0.75000\n",
            "4/4 [==============================] - 12s 3s/step - loss: 0.5796 - accuracy: 0.7016 - val_loss: 0.6242 - val_accuracy: 0.7188\n",
            "Epoch 51/100\n",
            "4/4 [==============================] - ETA: 0s - loss: 0.5708 - accuracy: 0.6855\n",
            "Epoch 51: val_accuracy did not improve from 0.75000\n",
            "4/4 [==============================] - 9s 2s/step - loss: 0.5708 - accuracy: 0.6855 - val_loss: 0.6282 - val_accuracy: 0.6875\n",
            "Epoch 52/100\n",
            "4/4 [==============================] - ETA: 0s - loss: 0.5527 - accuracy: 0.7097\n",
            "Epoch 52: val_accuracy did not improve from 0.75000\n",
            "4/4 [==============================] - 11s 3s/step - loss: 0.5527 - accuracy: 0.7097 - val_loss: 0.6291 - val_accuracy: 0.6875\n",
            "Epoch 53/100\n",
            "4/4 [==============================] - ETA: 0s - loss: 0.5547 - accuracy: 0.7177\n",
            "Epoch 53: val_accuracy did not improve from 0.75000\n",
            "4/4 [==============================] - 11s 3s/step - loss: 0.5547 - accuracy: 0.7177 - val_loss: 0.6254 - val_accuracy: 0.6875\n",
            "Epoch 54/100\n",
            "4/4 [==============================] - ETA: 0s - loss: 0.5581 - accuracy: 0.7177\n",
            "Epoch 54: val_accuracy did not improve from 0.75000\n",
            "4/4 [==============================] - 9s 3s/step - loss: 0.5581 - accuracy: 0.7177 - val_loss: 0.6278 - val_accuracy: 0.6875\n",
            "Epoch 55/100\n",
            "4/4 [==============================] - ETA: 0s - loss: 0.5613 - accuracy: 0.7419\n",
            "Epoch 55: val_accuracy did not improve from 0.75000\n",
            "4/4 [==============================] - 11s 2s/step - loss: 0.5613 - accuracy: 0.7419 - val_loss: 0.6332 - val_accuracy: 0.6562\n",
            "Epoch 56/100\n",
            "4/4 [==============================] - ETA: 0s - loss: 0.5493 - accuracy: 0.7177\n",
            "Epoch 56: val_accuracy did not improve from 0.75000\n",
            "4/4 [==============================] - 12s 4s/step - loss: 0.5493 - accuracy: 0.7177 - val_loss: 0.6224 - val_accuracy: 0.6562\n",
            "Epoch 57/100\n",
            "4/4 [==============================] - ETA: 0s - loss: 0.5576 - accuracy: 0.6935\n",
            "Epoch 57: val_accuracy did not improve from 0.75000\n",
            "4/4 [==============================] - 14s 4s/step - loss: 0.5576 - accuracy: 0.6935 - val_loss: 0.6537 - val_accuracy: 0.5625\n",
            "Epoch 58/100\n",
            "4/4 [==============================] - ETA: 0s - loss: 0.5433 - accuracy: 0.7581\n",
            "Epoch 58: val_accuracy did not improve from 0.75000\n",
            "4/4 [==============================] - 12s 3s/step - loss: 0.5433 - accuracy: 0.7581 - val_loss: 0.6296 - val_accuracy: 0.6875\n",
            "Epoch 59/100\n",
            "4/4 [==============================] - ETA: 0s - loss: 0.5579 - accuracy: 0.7016\n",
            "Epoch 59: val_accuracy did not improve from 0.75000\n",
            "4/4 [==============================] - 11s 3s/step - loss: 0.5579 - accuracy: 0.7016 - val_loss: 0.6287 - val_accuracy: 0.7188\n",
            "Epoch 60/100\n",
            "4/4 [==============================] - ETA: 0s - loss: 0.5470 - accuracy: 0.7097\n",
            "Epoch 60: val_accuracy did not improve from 0.75000\n",
            "4/4 [==============================] - 12s 3s/step - loss: 0.5470 - accuracy: 0.7097 - val_loss: 0.6418 - val_accuracy: 0.6562\n",
            "Epoch 61/100\n",
            "4/4 [==============================] - ETA: 0s - loss: 0.5620 - accuracy: 0.7097\n",
            "Epoch 61: val_accuracy did not improve from 0.75000\n",
            "4/4 [==============================] - 11s 3s/step - loss: 0.5620 - accuracy: 0.7097 - val_loss: 0.6299 - val_accuracy: 0.6875\n",
            "Epoch 62/100\n",
            "4/4 [==============================] - ETA: 0s - loss: 0.5361 - accuracy: 0.7097\n",
            "Epoch 62: val_accuracy did not improve from 0.75000\n",
            "4/4 [==============================] - 11s 3s/step - loss: 0.5361 - accuracy: 0.7097 - val_loss: 0.6252 - val_accuracy: 0.6875\n",
            "Epoch 63/100\n",
            "4/4 [==============================] - ETA: 0s - loss: 0.5472 - accuracy: 0.7097\n",
            "Epoch 63: val_accuracy did not improve from 0.75000\n",
            "4/4 [==============================] - 10s 3s/step - loss: 0.5472 - accuracy: 0.7097 - val_loss: 0.6213 - val_accuracy: 0.6875\n",
            "Epoch 64/100\n",
            "4/4 [==============================] - ETA: 0s - loss: 0.5532 - accuracy: 0.7177\n",
            "Epoch 64: val_accuracy did not improve from 0.75000\n",
            "4/4 [==============================] - 11s 3s/step - loss: 0.5532 - accuracy: 0.7177 - val_loss: 0.6292 - val_accuracy: 0.6562\n",
            "Epoch 65/100\n",
            "4/4 [==============================] - ETA: 0s - loss: 0.5350 - accuracy: 0.7339\n",
            "Epoch 65: val_accuracy did not improve from 0.75000\n",
            "4/4 [==============================] - 14s 4s/step - loss: 0.5350 - accuracy: 0.7339 - val_loss: 0.6204 - val_accuracy: 0.6875\n",
            "Epoch 66/100\n",
            "4/4 [==============================] - ETA: 0s - loss: 0.5477 - accuracy: 0.6935\n",
            "Epoch 66: val_accuracy did not improve from 0.75000\n",
            "4/4 [==============================] - 14s 4s/step - loss: 0.5477 - accuracy: 0.6935 - val_loss: 0.6234 - val_accuracy: 0.7188\n",
            "Epoch 67/100\n",
            "4/4 [==============================] - ETA: 0s - loss: 0.5137 - accuracy: 0.7500\n",
            "Epoch 67: val_accuracy did not improve from 0.75000\n",
            "4/4 [==============================] - 10s 2s/step - loss: 0.5137 - accuracy: 0.7500 - val_loss: 0.6398 - val_accuracy: 0.6250\n",
            "Epoch 68/100\n",
            "4/4 [==============================] - ETA: 0s - loss: 0.5207 - accuracy: 0.7419\n",
            "Epoch 68: val_accuracy did not improve from 0.75000\n",
            "4/4 [==============================] - 11s 3s/step - loss: 0.5207 - accuracy: 0.7419 - val_loss: 0.6365 - val_accuracy: 0.6562\n",
            "Epoch 69/100\n",
            "4/4 [==============================] - ETA: 0s - loss: 0.5277 - accuracy: 0.7339\n",
            "Epoch 69: val_accuracy did not improve from 0.75000\n",
            "4/4 [==============================] - 11s 3s/step - loss: 0.5277 - accuracy: 0.7339 - val_loss: 0.6318 - val_accuracy: 0.6875\n",
            "Epoch 70/100\n",
            "4/4 [==============================] - ETA: 0s - loss: 0.5181 - accuracy: 0.7661\n",
            "Epoch 70: val_accuracy did not improve from 0.75000\n",
            "4/4 [==============================] - 9s 2s/step - loss: 0.5181 - accuracy: 0.7661 - val_loss: 0.6394 - val_accuracy: 0.6562\n",
            "Epoch 71/100\n",
            "4/4 [==============================] - ETA: 0s - loss: 0.5105 - accuracy: 0.7581\n",
            "Epoch 71: val_accuracy did not improve from 0.75000\n",
            "4/4 [==============================] - 11s 3s/step - loss: 0.5105 - accuracy: 0.7581 - val_loss: 0.6245 - val_accuracy: 0.7188\n",
            "Epoch 72/100\n",
            "4/4 [==============================] - ETA: 0s - loss: 0.5409 - accuracy: 0.6935\n",
            "Epoch 72: val_accuracy did not improve from 0.75000\n",
            "4/4 [==============================] - 12s 3s/step - loss: 0.5409 - accuracy: 0.6935 - val_loss: 0.6221 - val_accuracy: 0.6875\n",
            "Epoch 73/100\n",
            "4/4 [==============================] - ETA: 0s - loss: 0.5213 - accuracy: 0.7258\n",
            "Epoch 73: val_accuracy did not improve from 0.75000\n",
            "4/4 [==============================] - 14s 4s/step - loss: 0.5213 - accuracy: 0.7258 - val_loss: 0.6556 - val_accuracy: 0.6250\n",
            "Epoch 74/100\n",
            "4/4 [==============================] - ETA: 0s - loss: 0.5066 - accuracy: 0.7661\n",
            "Epoch 74: val_accuracy did not improve from 0.75000\n",
            "4/4 [==============================] - 13s 3s/step - loss: 0.5066 - accuracy: 0.7661 - val_loss: 0.6350 - val_accuracy: 0.7188\n",
            "Epoch 75/100\n",
            "4/4 [==============================] - ETA: 0s - loss: 0.5276 - accuracy: 0.7177\n",
            "Epoch 75: val_accuracy did not improve from 0.75000\n",
            "4/4 [==============================] - 11s 3s/step - loss: 0.5276 - accuracy: 0.7177 - val_loss: 0.6345 - val_accuracy: 0.7188\n",
            "Epoch 76/100\n",
            "4/4 [==============================] - ETA: 0s - loss: 0.5274 - accuracy: 0.7500\n",
            "Epoch 76: val_accuracy did not improve from 0.75000\n",
            "4/4 [==============================] - 14s 4s/step - loss: 0.5274 - accuracy: 0.7500 - val_loss: 0.6586 - val_accuracy: 0.6562\n",
            "Epoch 77/100\n",
            "4/4 [==============================] - ETA: 0s - loss: 0.5520 - accuracy: 0.6935\n",
            "Epoch 77: val_accuracy did not improve from 0.75000\n",
            "4/4 [==============================] - 10s 3s/step - loss: 0.5520 - accuracy: 0.6935 - val_loss: 0.6313 - val_accuracy: 0.7188\n",
            "Epoch 78/100\n",
            "4/4 [==============================] - ETA: 0s - loss: 0.5171 - accuracy: 0.7500\n",
            "Epoch 78: val_accuracy did not improve from 0.75000\n",
            "4/4 [==============================] - 11s 3s/step - loss: 0.5171 - accuracy: 0.7500 - val_loss: 0.6298 - val_accuracy: 0.6875\n",
            "Epoch 79/100\n",
            "4/4 [==============================] - ETA: 0s - loss: 0.4885 - accuracy: 0.7419\n",
            "Epoch 79: val_accuracy did not improve from 0.75000\n",
            "4/4 [==============================] - 11s 3s/step - loss: 0.4885 - accuracy: 0.7419 - val_loss: 0.6335 - val_accuracy: 0.6562\n",
            "Epoch 80/100\n",
            "4/4 [==============================] - ETA: 0s - loss: 0.4997 - accuracy: 0.7339\n",
            "Epoch 80: val_accuracy did not improve from 0.75000\n",
            "4/4 [==============================] - 10s 3s/step - loss: 0.4997 - accuracy: 0.7339 - val_loss: 0.6374 - val_accuracy: 0.5938\n",
            "Epoch 81/100\n",
            "4/4 [==============================] - ETA: 0s - loss: 0.5107 - accuracy: 0.7419\n",
            "Epoch 81: val_accuracy did not improve from 0.75000\n",
            "4/4 [==============================] - 14s 4s/step - loss: 0.5107 - accuracy: 0.7419 - val_loss: 0.6299 - val_accuracy: 0.6875\n",
            "Epoch 82/100\n",
            "4/4 [==============================] - ETA: 0s - loss: 0.4807 - accuracy: 0.7581\n",
            "Epoch 82: val_accuracy did not improve from 0.75000\n",
            "4/4 [==============================] - 14s 4s/step - loss: 0.4807 - accuracy: 0.7581 - val_loss: 0.6344 - val_accuracy: 0.6875\n",
            "Epoch 83/100\n",
            "4/4 [==============================] - ETA: 0s - loss: 0.5044 - accuracy: 0.7581\n",
            "Epoch 83: val_accuracy did not improve from 0.75000\n",
            "4/4 [==============================] - 12s 3s/step - loss: 0.5044 - accuracy: 0.7581 - val_loss: 0.6499 - val_accuracy: 0.6250\n",
            "Epoch 84/100\n",
            "4/4 [==============================] - ETA: 0s - loss: 0.4936 - accuracy: 0.7581\n",
            "Epoch 84: val_accuracy did not improve from 0.75000\n",
            "4/4 [==============================] - 11s 3s/step - loss: 0.4936 - accuracy: 0.7581 - val_loss: 0.6475 - val_accuracy: 0.6562\n",
            "Epoch 85/100\n",
            "4/4 [==============================] - ETA: 0s - loss: 0.4882 - accuracy: 0.7419\n",
            "Epoch 85: val_accuracy did not improve from 0.75000\n",
            "4/4 [==============================] - 13s 4s/step - loss: 0.4882 - accuracy: 0.7419 - val_loss: 0.6515 - val_accuracy: 0.6875\n",
            "Epoch 86/100\n",
            "4/4 [==============================] - ETA: 0s - loss: 0.4923 - accuracy: 0.7419\n",
            "Epoch 86: val_accuracy did not improve from 0.75000\n",
            "4/4 [==============================] - 10s 2s/step - loss: 0.4923 - accuracy: 0.7419 - val_loss: 0.6602 - val_accuracy: 0.6250\n",
            "Epoch 87/100\n",
            "4/4 [==============================] - ETA: 0s - loss: 0.5170 - accuracy: 0.7903\n",
            "Epoch 87: val_accuracy did not improve from 0.75000\n",
            "4/4 [==============================] - 11s 3s/step - loss: 0.5170 - accuracy: 0.7903 - val_loss: 0.6629 - val_accuracy: 0.6250\n",
            "Epoch 88/100\n",
            "4/4 [==============================] - ETA: 0s - loss: 0.4608 - accuracy: 0.7581\n",
            "Epoch 88: val_accuracy did not improve from 0.75000\n",
            "4/4 [==============================] - 14s 4s/step - loss: 0.4608 - accuracy: 0.7581 - val_loss: 0.6570 - val_accuracy: 0.6875\n",
            "Epoch 89/100\n",
            "4/4 [==============================] - ETA: 0s - loss: 0.5035 - accuracy: 0.7581\n",
            "Epoch 89: val_accuracy did not improve from 0.75000\n",
            "4/4 [==============================] - 13s 3s/step - loss: 0.5035 - accuracy: 0.7581 - val_loss: 0.6530 - val_accuracy: 0.6250\n",
            "Epoch 90/100\n",
            "4/4 [==============================] - ETA: 0s - loss: 0.4865 - accuracy: 0.7742\n",
            "Epoch 90: val_accuracy did not improve from 0.75000\n",
            "4/4 [==============================] - 11s 3s/step - loss: 0.4865 - accuracy: 0.7742 - val_loss: 0.6536 - val_accuracy: 0.6250\n",
            "Epoch 91/100\n",
            "4/4 [==============================] - ETA: 0s - loss: 0.4926 - accuracy: 0.7661\n",
            "Epoch 91: val_accuracy did not improve from 0.75000\n",
            "4/4 [==============================] - 12s 3s/step - loss: 0.4926 - accuracy: 0.7661 - val_loss: 0.6428 - val_accuracy: 0.6875\n",
            "Epoch 92/100\n",
            "4/4 [==============================] - ETA: 0s - loss: 0.4745 - accuracy: 0.7661\n",
            "Epoch 92: val_accuracy did not improve from 0.75000\n",
            "4/4 [==============================] - 12s 3s/step - loss: 0.4745 - accuracy: 0.7661 - val_loss: 0.6490 - val_accuracy: 0.6562\n",
            "Epoch 93/100\n",
            "4/4 [==============================] - ETA: 0s - loss: 0.4850 - accuracy: 0.7742\n",
            "Epoch 93: val_accuracy did not improve from 0.75000\n",
            "4/4 [==============================] - 9s 3s/step - loss: 0.4850 - accuracy: 0.7742 - val_loss: 0.6657 - val_accuracy: 0.6562\n",
            "Epoch 94/100\n",
            "4/4 [==============================] - ETA: 0s - loss: 0.4887 - accuracy: 0.7823\n",
            "Epoch 94: val_accuracy did not improve from 0.75000\n",
            "4/4 [==============================] - 11s 3s/step - loss: 0.4887 - accuracy: 0.7823 - val_loss: 0.6580 - val_accuracy: 0.6250\n",
            "Epoch 95/100\n",
            "4/4 [==============================] - ETA: 0s - loss: 0.4740 - accuracy: 0.7500\n",
            "Epoch 95: val_accuracy did not improve from 0.75000\n",
            "4/4 [==============================] - 11s 3s/step - loss: 0.4740 - accuracy: 0.7500 - val_loss: 0.6670 - val_accuracy: 0.6250\n",
            "Epoch 96/100\n",
            "4/4 [==============================] - ETA: 0s - loss: 0.4876 - accuracy: 0.7661\n",
            "Epoch 96: val_accuracy did not improve from 0.75000\n",
            "4/4 [==============================] - 9s 3s/step - loss: 0.4876 - accuracy: 0.7661 - val_loss: 0.6626 - val_accuracy: 0.6250\n",
            "Epoch 97/100\n",
            "4/4 [==============================] - ETA: 0s - loss: 0.4832 - accuracy: 0.7500\n",
            "Epoch 97: val_accuracy did not improve from 0.75000\n",
            "4/4 [==============================] - 11s 3s/step - loss: 0.4832 - accuracy: 0.7500 - val_loss: 0.6475 - val_accuracy: 0.6875\n",
            "Epoch 98/100\n",
            "4/4 [==============================] - ETA: 0s - loss: 0.4850 - accuracy: 0.7500\n",
            "Epoch 98: val_accuracy did not improve from 0.75000\n",
            "4/4 [==============================] - 11s 3s/step - loss: 0.4850 - accuracy: 0.7500 - val_loss: 0.6351 - val_accuracy: 0.7188\n",
            "Epoch 99/100\n",
            "4/4 [==============================] - ETA: 0s - loss: 0.4725 - accuracy: 0.7581\n",
            "Epoch 99: val_accuracy did not improve from 0.75000\n",
            "4/4 [==============================] - 12s 3s/step - loss: 0.4725 - accuracy: 0.7581 - val_loss: 0.6355 - val_accuracy: 0.6875\n",
            "Epoch 100/100\n",
            "4/4 [==============================] - ETA: 0s - loss: 0.4876 - accuracy: 0.7419\n",
            "Epoch 100: val_accuracy did not improve from 0.75000\n",
            "4/4 [==============================] - 12s 4s/step - loss: 0.4876 - accuracy: 0.7419 - val_loss: 0.6627 - val_accuracy: 0.6562\n"
          ]
        },
        {
          "output_type": "execute_result",
          "data": {
            "text/plain": [
              "<keras.callbacks.History at 0x7f74b2e09c90>"
            ]
          },
          "metadata": {},
          "execution_count": 85
        }
      ]
    },
    {
      "cell_type": "code",
      "source": [
        "classifier.evaluate(test_set)"
      ],
      "metadata": {
        "colab": {
          "base_uri": "https://localhost:8080/"
        },
        "id": "6__O3TKnj9dO",
        "outputId": "6e48fd62-10d1-48d3-81f0-2da08166ba76"
      },
      "execution_count": null,
      "outputs": [
        {
          "output_type": "stream",
          "name": "stdout",
          "text": [
            "2/2 [==============================] - 14s 12s/step - loss: 0.6861 - accuracy: 0.6562\n"
          ]
        },
        {
          "output_type": "execute_result",
          "data": {
            "text/plain": [
              "[0.6860675811767578, 0.65625]"
            ]
          },
          "metadata": {},
          "execution_count": 7
        }
      ]
    },
    {
      "cell_type": "markdown",
      "source": [
        "# Testing the Model - Positive Testing Set"
      ],
      "metadata": {
        "id": "2CJUOtKS1-zD"
      }
    },
    {
      "cell_type": "code",
      "source": [
        "import keras.utils as image\n",
        "import numpy as np\n",
        "import os\n",
        "\n",
        "test_folder = '/content/drive/MyDrive/UNI/SEMESTER 4/comvis/COVID-19/Testing/positive'\n",
        "test_images = os.listdir(test_folder)\n",
        "\n",
        "predictions = []\n",
        "for test_image in test_images:\n",
        "    img_path = os.path.join(test_folder, test_image)\n",
        "    img = image.load_img(img_path, target_size=(64, 64))\n",
        "    img = image.img_to_array(img)\n",
        "    img = np.expand_dims(img, axis=0)\n",
        "\n",
        "    result = classifier.predict(img)\n",
        "    if result[0][0] >= 0.5:\n",
        "        prediction = 'positive'\n",
        "    else:\n",
        "        prediction = 'negative'\n",
        "    predictions.append((test_image, result[0][0], prediction))\n",
        "\n",
        "for prediction in predictions:\n",
        "    print(\"\\n\".join(str(p) for p in prediction))\n",
        "    print()"
      ],
      "metadata": {
        "colab": {
          "base_uri": "https://localhost:8080/"
        },
        "id": "VegjI0GQ1jBC",
        "outputId": "bb1ed151-52d3-4a83-fce7-d49b6b2576b9"
      },
      "execution_count": null,
      "outputs": [
        {
          "output_type": "stream",
          "name": "stdout",
          "text": [
            "1/1 [==============================] - 0s 49ms/step\n",
            "1/1 [==============================] - 0s 80ms/step\n",
            "1/1 [==============================] - 0s 67ms/step\n",
            "1/1 [==============================] - 0s 35ms/step\n",
            "1/1 [==============================] - 0s 36ms/step\n",
            "1/1 [==============================] - 0s 41ms/step\n",
            "1/1 [==============================] - 0s 40ms/step\n",
            "1/1 [==============================] - 0s 43ms/step\n",
            "1/1 [==============================] - 0s 72ms/step\n",
            "1/1 [==============================] - 0s 66ms/step\n",
            "1/1 [==============================] - 0s 40ms/step\n",
            "1/1 [==============================] - 0s 55ms/step\n",
            "covid-19-pneumonia-8.jpg\n",
            "0.0\n",
            "negative\n",
            "\n",
            "covid-19-caso-70-1-PA.jpg\n",
            "1.0\n",
            "positive\n",
            "\n",
            "covid-19-pneumonia-40.jpg\n",
            "1.0\n",
            "positive\n",
            "\n",
            "covid-19-pneumonia-49-day4.jpg\n",
            "1.0\n",
            "positive\n",
            "\n",
            "covid-19-rapidly-progressive-acute-respiratory-distress-syndrome-ards-day-1.jpg\n",
            "9.7046446e-05\n",
            "negative\n",
            "\n",
            "covid-19-pneumonia-34.png\n",
            "4.0087702e-06\n",
            "negative\n",
            "\n",
            "covid-19-pneumonia-15-L.jpg\n",
            "1.0\n",
            "positive\n",
            "\n",
            "covid-19-pneumonia-22-day1-l.png\n",
            "1.0\n",
            "positive\n",
            "\n",
            "covid-19-pneumonia-53.jpg\n",
            "1.3557449e-24\n",
            "negative\n",
            "\n",
            "covid-19-pneumonia-rapidly-progressive-admission.jpg\n",
            "1.0\n",
            "positive\n",
            "\n",
            "covid-19-pneumonia-43-day0.jpeg\n",
            "1.0\n",
            "positive\n",
            "\n",
            "covid-19-pneumonia-14-L.png\n",
            "1.0\n",
            "positive\n",
            "\n"
          ]
        }
      ]
    },
    {
      "cell_type": "markdown",
      "source": [
        "# Testing the Model - Negative Testing Set"
      ],
      "metadata": {
        "id": "83XwD0vK57xv"
      }
    },
    {
      "cell_type": "code",
      "source": [
        "import keras.utils as image\n",
        "import numpy as np\n",
        "import os\n",
        "\n",
        "test_folder = '/content/drive/MyDrive/UNI/SEMESTER 4/comvis/COVID-19/Testing/negative'\n",
        "test_images = os.listdir(test_folder)\n",
        "\n",
        "predictions = []\n",
        "for test_image in test_images:\n",
        "    img_path = os.path.join(test_folder, test_image)\n",
        "    img = image.load_img(img_path, target_size=(64, 64))\n",
        "    img = image.img_to_array(img)\n",
        "    img = np.expand_dims(img, axis=0)\n",
        "\n",
        "    result = classifier.predict(img)\n",
        "    if result[0][0] >= 0.5:\n",
        "        prediction = 'positive'\n",
        "    else:\n",
        "        prediction = 'negative'\n",
        "    predictions.append((test_image, result[0][0], prediction))\n",
        "\n",
        "for prediction in predictions:\n",
        "    print(\"\\n\".join(str(p) for p in prediction))\n",
        "    print()"
      ],
      "metadata": {
        "colab": {
          "base_uri": "https://localhost:8080/"
        },
        "id": "HvESGF9v1wR4",
        "outputId": "93822771-4f07-4426-e208-023bf89e7f77"
      },
      "execution_count": null,
      "outputs": [
        {
          "output_type": "stream",
          "name": "stdout",
          "text": [
            "1/1 [==============================] - 0s 158ms/step\n",
            "1/1 [==============================] - 0s 25ms/step\n",
            "1/1 [==============================] - 0s 32ms/step\n",
            "1/1 [==============================] - 0s 41ms/step\n",
            "1/1 [==============================] - 0s 37ms/step\n",
            "1/1 [==============================] - 0s 36ms/step\n",
            "1/1 [==============================] - 0s 37ms/step\n",
            "1/1 [==============================] - 0s 43ms/step\n",
            "1/1 [==============================] - 0s 36ms/step\n",
            "1/1 [==============================] - 0s 47ms/step\n",
            "1/1 [==============================] - 0s 38ms/step\n",
            "1/1 [==============================] - 0s 40ms/step\n",
            "1/1 [==============================] - 0s 42ms/step\n",
            "1/1 [==============================] - 0s 44ms/step\n",
            "1/1 [==============================] - 0s 37ms/step\n",
            "1/1 [==============================] - 0s 40ms/step\n",
            "1/1 [==============================] - 0s 36ms/step\n",
            "1/1 [==============================] - 0s 40ms/step\n",
            "1/1 [==============================] - 0s 42ms/step\n",
            "1/1 [==============================] - 0s 47ms/step\n",
            "7E335538-2F86-424E-A0AB-6397783A38D0.jpeg\n",
            "1.365866e-11\n",
            "negative\n",
            "\n",
            "2C10A413-AABE-4807-8CCE-6A2025594067.jpeg\n",
            "0.0022676727\n",
            "negative\n",
            "\n",
            "B59DD164-51D5-40DF-A926-6A42DD52EBE8.jpeg\n",
            "0.3297448\n",
            "negative\n",
            "\n",
            "7D2CF6CE-F529-4470-8356-D33FFAF98600.jpeg\n",
            "2.1131723e-18\n",
            "negative\n",
            "\n",
            "kjr-21-e24-g003-l-a.jpg\n",
            "0.49480408\n",
            "negative\n",
            "\n",
            "53EC07C9-5CC6-4BE4-9B6F-D7B0D72AAA7E.jpeg\n",
            "2.3972872e-12\n",
            "negative\n",
            "\n",
            "nejmoa2001191_f3-PA.jpeg\n",
            "3.1712516e-05\n",
            "negative\n",
            "\n",
            "446B2CB6-B572-40AB-B01F-1910CA07086A.jpeg\n",
            "1.2351362e-12\n",
            "negative\n",
            "\n",
            "nejmoa2001191_f1-PA.jpeg\n",
            "3.1582073e-09\n",
            "negative\n",
            "\n",
            "kjr-21-e24-g002-l-a.jpg\n",
            "0.63549113\n",
            "positive\n",
            "\n",
            "39EE8E69-5801-48DE-B6E3-BE7D1BCF3092.jpeg\n",
            "1.446824e-06\n",
            "negative\n",
            "\n",
            "7C69C012-7479-493F-8722-ABC29C60A2DD.jpeg\n",
            "5.3669073e-08\n",
            "negative\n",
            "\n",
            "figure1-5e7c1b8d98c29ab001275405-98.jpeg\n",
            "0.27719507\n",
            "negative\n",
            "\n",
            "aspiration-pneumonia-5-day27.jpg\n",
            "0.9997481\n",
            "positive\n",
            "\n",
            "legionella-pneumonia-2.jpg\n",
            "0.00055214996\n",
            "negative\n",
            "\n",
            "353889E0-A1E8-4F9E-A0B8-F24F36BCFBFB.jpeg\n",
            "0.22214429\n",
            "negative\n",
            "\n",
            "2B8649B2-00C4-4233-85D5-1CE240CF233B.jpeg\n",
            "0.34913865\n",
            "negative\n",
            "\n",
            "figure1-5e7c1b8d98c29ab001275405-98-later.jpeg\n",
            "1.905336e-20\n",
            "negative\n",
            "\n",
            "F63AB6CE-1968-4154-A70F-913AF154F53D.jpeg\n",
            "1.0113161e-09\n",
            "negative\n",
            "\n",
            "acute-respiratory-distress-syndrome-ards.jpg\n",
            "1.5180256e-10\n",
            "negative\n",
            "\n"
          ]
        }
      ]
    },
    {
      "cell_type": "code",
      "source": [
        "from google.colab import drive\n",
        "drive.mount('/content/drive')"
      ],
      "metadata": {
        "id": "lvh4uWgsbNSJ"
      },
      "execution_count": null,
      "outputs": []
    }
  ]
}